{
 "cells": [
  {
   "cell_type": "code",
   "execution_count": 1,
   "metadata": {},
   "outputs": [
    {
     "name": "stdout",
     "output_type": "stream",
     "text": [
      "Variáveis disponíveis no dataset:\n",
      "dict_keys(['time', 'zlev', 'lat', 'lon', 'sst', 'anom', 'err', 'ice'])\n",
      "Dimensões do SST: (1, 1, 720, 1440)\n",
      "                 time     lat    lon  zlev  sst\n",
      "0 2024-05-02 12:00:00 -89.875  0.125   0.0  NaN\n",
      "1 2024-05-02 12:00:00 -89.875  0.375   0.0  NaN\n",
      "2 2024-05-02 12:00:00 -89.875  0.625   0.0  NaN\n",
      "3 2024-05-02 12:00:00 -89.875  0.875   0.0  NaN\n",
      "4 2024-05-02 12:00:00 -89.875  1.125   0.0  NaN\n"
     ]
    }
   ],
   "source": [
    "import numpy as np\n",
    "import pandas as pd\n",
    "from netCDF4 import Dataset\n",
    "from datetime import datetime, timedelta\n",
    "\n",
    "# Exemplo de carregamento de dados NetCDF\n",
    "file_path = '.\\\\data_from_noaa\\\\202405\\\\oisst-avhrr-v02r01.20240502.nc'\n",
    "dataset = Dataset(file_path)\n",
    "\n",
    "# Verificar as variáveis no arquivo\n",
    "print(\"Variáveis disponíveis no dataset:\")\n",
    "print(dataset.variables.keys())\n",
    "\n",
    "# Extrair dados de SST, tempo, latitude e longitude\n",
    "sst_data = dataset.variables['sst'][:]\n",
    "times = dataset.variables['time'][:]\n",
    "latitudes = dataset.variables['lat'][:]\n",
    "longitudes = dataset.variables['lon'][:]\n",
    "zlev = dataset.variables['zlev'][:]\n",
    "\n",
    "# Converter tempo para formato legível (assumindo que o tempo está em dias desde 1978-01-01 12:00:00)\n",
    "reference_date = datetime(1978, 1, 1, 12, 0, 0)\n",
    "times = np.array([reference_date + timedelta(days=float(t)) for t in times])\n",
    "\n",
    "# Aplicar scale_factor e add_offset à SST\n",
    "sst_fill_value = dataset.variables['sst']._FillValue\n",
    "sst_scale_factor = dataset.variables['sst'].scale_factor\n",
    "sst_add_offset = dataset.variables['sst'].add_offset\n",
    "sst_data = np.ma.masked_equal(sst_data, sst_fill_value)  # Mascara os valores de preenchimento\n",
    "sst_data = sst_data * sst_scale_factor + sst_add_offset  # Aplica o scale_factor e add_offset\n",
    "\n",
    "# Verificar as dimensões do SST\n",
    "print(\"Dimensões do SST:\", sst_data.shape)\n",
    "\n",
    "# Verificar a forma dos dados\n",
    "data_shape = sst_data.shape\n",
    "\n",
    "if len(data_shape) == 4:\n",
    "    time_dim, zlev_dim, lat_dim, lon_dim = data_shape\n",
    "    # Flatten the SST data\n",
    "    sst_flattened = sst_data.flatten()\n",
    "\n",
    "    # Repetir os valores de tempo, latitude e longitude para combinar com o número de pontos de dados de SST\n",
    "    time_repeated = np.repeat(times, lat_dim * lon_dim * zlev_dim)\n",
    "    lat_repeated = np.tile(np.repeat(latitudes, lon_dim), time_dim * zlev_dim)\n",
    "    lon_repeated = np.tile(longitudes, time_dim * zlev_dim * lat_dim)\n",
    "    zlev_repeated = np.tile(np.repeat(zlev, lat_dim * lon_dim), time_dim)\n",
    "\n",
    "    # Criar DataFrame\n",
    "    sst_df = pd.DataFrame({\n",
    "        'time': time_repeated,\n",
    "        'lat': lat_repeated,\n",
    "        'lon': lon_repeated,\n",
    "        'zlev': zlev_repeated,\n",
    "        'sst': sst_flattened\n",
    "    })\n",
    "\n",
    "    # Exibir as primeiras linhas do DataFrame\n",
    "    print(sst_df.head())\n",
    "\n",
    "else:\n",
    "    print(f\"Forma dos dados não suportada: {data_shape}\")"
   ]
  },
  {
   "cell_type": "code",
   "execution_count": 2,
   "metadata": {},
   "outputs": [],
   "source": [
    "import xarray as xr\n",
    "\n",
    "# Carregar o arquivo NetCDF\n",
    "file_path = '.\\\\data_from_noaa\\\\202405\\\\ct5km_dhw_v3.1_20240502.nc'\n",
    "ds = xr.open_dataset(file_path)\n",
    "\n",
    "# Converter o dataset para um DataFrame do Pandas\n",
    "df = ds.to_dataframe().reset_index()"
   ]
  },
  {
   "cell_type": "code",
   "execution_count": 3,
   "metadata": {},
   "outputs": [],
   "source": [
    "merged = pd.merge(df, sst_df, how='inner', on=['time', 'lat', 'lon'])"
   ]
  }
 ],
 "metadata": {
  "kernelspec": {
   "display_name": ".venv",
   "language": "python",
   "name": "python3"
  },
  "language_info": {
   "codemirror_mode": {
    "name": "ipython",
    "version": 3
   },
   "file_extension": ".py",
   "mimetype": "text/x-python",
   "name": "python",
   "nbconvert_exporter": "python",
   "pygments_lexer": "ipython3",
   "version": "3.11.9"
  }
 },
 "nbformat": 4,
 "nbformat_minor": 2
}
